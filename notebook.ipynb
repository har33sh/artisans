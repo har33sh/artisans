{
  "nbformat": 4,
  "nbformat_minor": 0,
  "metadata": {
    "colab": {
      "provenance": []
    },
    "kernelspec": {
      "name": "python3",
      "display_name": "Python 3"
    },
    "language_info": {
      "name": "python"
    }
  },
  "cells": [
    {
      "cell_type": "code",
      "execution_count": 91,
      "metadata": {
        "id": "YSQLgLh-l3Zp"
      },
      "outputs": [],
      "source": [
        "import pandas as pd\n",
        "\n",
        "# Load the dataset\n",
        "file_path = 'email_campaigns.pkl'\n",
        "email_data = pd.read_pickle(file_path)"
      ]
    },
    {
      "cell_type": "markdown",
      "source": [
        "## Preprocessing\n",
        "\n",
        "### Converting pickle file to dataframe"
      ],
      "metadata": {
        "id": "8vEr22Mgfr3u"
      }
    },
    {
      "cell_type": "code",
      "source": [
        "# Inspecting first two elements\n",
        "email_data[:2]"
      ],
      "metadata": {
        "colab": {
          "base_uri": "https://localhost:8080/"
        },
        "id": "g_Fdk87anhV9",
        "outputId": "e7060d28-4aab-4862-8075-85f7bc374065"
      },
      "execution_count": 92,
      "outputs": [
        {
          "output_type": "execute_result",
          "data": {
            "text/plain": [
              "[{'example1': [{'subject': '🚀 Propel Your Marketing ROI with Advanced Analytics!',\n",
              "    'body': \"Hey [Recipient's Name],\\n\\nReady to see your marketing performance soar? With our cutting-edge Marketing Analytics services, your business can harness the power of data to drive decision-making and skyrocket ROI!\\n\\nQuick question - are you leveraging your data to its full potential? Let's talk strategy! 👉 [meeting link]\\n\\nBest,\\n[Your Name]\",\n",
              "    'opened': False,\n",
              "    'meeting link clicked': False,\n",
              "    'responded': False},\n",
              "   {'subject': 'Data is Your Superpower 📊 Unlock Insights with Us',\n",
              "    'body': \"Hi [Recipient's Name],\\n\\nI'm reaching out again because I believe our last message might've slipped through the cracks. With your goals in mind, our marketing analytics can translate your data into actionable strategies that can redefine your marketing's success.\\n\\nCan we help you harness this superpower? Book a time on my calendar: [meeting link]. Looking forward to connecting!\\n\\nCheers,\\n[Your Name]\",\n",
              "    'opened': True,\n",
              "    'meeting link clicked': False,\n",
              "    'responded': False},\n",
              "   {'subject': \"Turn Marketing Data Into Decisions 🧐 Let's Explore How\",\n",
              "    'body': \"Greetings [Recipient's Name],\\n\\nWe haven't connected yet, and I'm convinced your business is missing out on valuable insights. Our tailored Marketing Analytics can peel back the layers of your data, unveiling opportunities for growth and cost-saving efficiencies.\\n\\nShall we schedule a deep dive into your data's potential? I'm eager to assist you in transforming information into victory! 🏆\\n\\nBest,\\n[Your Name]\\n\\nPS. Here’s that [meeting link] again, in case it got lost in email limbo.\",\n",
              "    'opened': False,\n",
              "    'meeting link clicked': False,\n",
              "    'responded': False},\n",
              "   {'subject': \"Marketing Success is a Click Away - Let's Chat Analytics\",\n",
              "    'body': \"Hello [Recipient's Name],\\n\\nIt's clear that you're serious about your business success, so let's not let untapped data insights stand in the way. Imagine the competitive edge you could gain with our expert analysis and recommendations.\\n\\nWhen can we show you the full picture? Click here for a consultation: [meeting link]. We’re here to turn your data into your most valuable asset.\\n\\nWarm regards,\\n[Your Name]\",\n",
              "    'opened': True,\n",
              "    'meeting link clicked': True,\n",
              "    'responded': False}]},\n",
              " {'example1': [{'subject': \"🚀 Boost Your Brand's Visibility with Proven Marketing Analytics Strategies\",\n",
              "    'body': \"Hi [Recipient's Name],\\n\\nIn the digital age, data is power—especially for your marketing team. Are you leveraging your data to its full potential? Our marketing analytics services at [Your Company] can help you understand your audience, optimize your campaigns, and significantly increase your ROI.\\n\\nReady to take your marketing to new heights? Let’s schedule a quick discovery call [meeting link].\\n\\nBest,\\n[Your Name] at [Your Company]\",\n",
              "    'opened': False,\n",
              "    'meeting link clicked': False,\n",
              "    'responded': False},\n",
              "   {'subject': 'Turn Data into Decisions 📊 - Your Next Competitive Edge',\n",
              "    'body': \"Hey [Recipient's Name],\\n\\nI saw that my previous email hasn’t been opened. I get it, you're swamped. Still, I couldn't help but reach out again because I truly believe that our marketing analytics insights can make a substantial difference for [Recipient's Company Name].\\n\\nHere’s the deal in a nutshell:\\n- Customized data reports 📈\\n- Campaign optimization 👌\\n- Increased conversion rates 💰\\n\\nDoes this catch your eye? Let’s discuss specifics. Book a slot directly via this [meeting link].\\n\\nBest,\\n[Your Name]\",\n",
              "    'opened': True,\n",
              "    'meeting link clicked': False,\n",
              "    'responded': False},\n",
              "   {'subject': 'Last Call: Your Blueprint for Marketing Success Awaits 📜',\n",
              "    'body': \"Hello [Recipient's Name],\\n\\nI hope this message finds you well. I noticed you opened my last email, and I’m taking that as a sign you might be curious about the possibilities that our analytics can unlock for your marketing strategy.\\n\\nAs a special consideration, I’ve taken the liberty of analyzing one of your recent campaigns. I spotted a few opportunities that could be game-changers for [Recipient's Company Name].\\n\\nInterested in these insights? They're just one conversation away. Here's that [meeting link] to set up time to talk.\\n\\nWarm regards,\\n[Your Name]\",\n",
              "    'opened': False,\n",
              "    'meeting link clicked': False,\n",
              "    'responded': False},\n",
              "   {'subject': 'We’re Confident in our Data, Here’s Why You Should Be Too 💪',\n",
              "    'body': \"Greetings [Recipient's Name],\\n\\nYour success is our business. Just last month, our analyses helped a company like yours increase their lead acquisition by 250%. That's no small feat – and it's all thanks to our focused approach to marketing analytics.\\n\\nI'd love to show you how we can do the same for you. Don't miss out on actionable insights that could revolutionize your marketing outcomes. Click this [meeting link] now and see what robust analytics can do for you.\\n\\nBest,\\n[Your Name]\\nP.S. As a bonus for scheduling a call, I’ll send over a complimentary report with three key insights just for [Recipient's Company Name].\",\n",
              "    'opened': True,\n",
              "    'meeting link clicked': True,\n",
              "    'responded': False}]}]"
            ]
          },
          "metadata": {},
          "execution_count": 92
        }
      ]
    },
    {
      "cell_type": "code",
      "source": [
        "# Inspecting the contents of the list to understand its structure\n",
        "type_of_elements = [type(element) for element in email_data]\n",
        "unique_types = set(type_of_elements)\n",
        "\n",
        "unique_types, len(email_data)"
      ],
      "metadata": {
        "colab": {
          "base_uri": "https://localhost:8080/"
        },
        "id": "DW3Q1bclmkpH",
        "outputId": "6d800f98-c9f5-40cf-85b1-ce0d6bbef1ad"
      },
      "execution_count": 93,
      "outputs": [
        {
          "output_type": "execute_result",
          "data": {
            "text/plain": [
              "({dict}, 52)"
            ]
          },
          "metadata": {},
          "execution_count": 93
        }
      ]
    },
    {
      "cell_type": "code",
      "source": [
        "# Converting to dataframe\n",
        "df = pd.DataFrame(columns=['subject', 'body', 'opened', 'meeting link clicked', 'responded'])\n",
        "\n",
        "for data in email_data:\n",
        "  for mails in data.values():\n",
        "    try:\n",
        "      df_temp = pd.DataFrame(mails)\n",
        "      df = pd.concat([df, df_temp])\n",
        "    except Exception as error:\n",
        "      print(error)"
      ],
      "metadata": {
        "colab": {
          "base_uri": "https://localhost:8080/"
        },
        "id": "jXANqVXnpgeX",
        "outputId": "3ddedcc6-0bed-4525-9a1d-5e86569598d1"
      },
      "execution_count": 94,
      "outputs": [
        {
          "output_type": "stream",
          "name": "stdout",
          "text": [
            "'str' object has no attribute 'keys'\n"
          ]
        },
        {
          "output_type": "stream",
          "name": "stderr",
          "text": [
            "<ipython-input-94-23fb2182929e>:8: FutureWarning: In a future version, object-dtype columns with all-bool values will not be included in reductions with bool_only=True. Explicitly cast to bool dtype instead.\n",
            "  df = pd.concat([df, df_temp])\n",
            "<ipython-input-94-23fb2182929e>:8: FutureWarning: In a future version, object-dtype columns with all-bool values will not be included in reductions with bool_only=True. Explicitly cast to bool dtype instead.\n",
            "  df = pd.concat([df, df_temp])\n",
            "<ipython-input-94-23fb2182929e>:8: FutureWarning: In a future version, object-dtype columns with all-bool values will not be included in reductions with bool_only=True. Explicitly cast to bool dtype instead.\n",
            "  df = pd.concat([df, df_temp])\n",
            "<ipython-input-94-23fb2182929e>:8: FutureWarning: In a future version, object-dtype columns with all-bool values will not be included in reductions with bool_only=True. Explicitly cast to bool dtype instead.\n",
            "  df = pd.concat([df, df_temp])\n",
            "<ipython-input-94-23fb2182929e>:8: FutureWarning: In a future version, object-dtype columns with all-bool values will not be included in reductions with bool_only=True. Explicitly cast to bool dtype instead.\n",
            "  df = pd.concat([df, df_temp])\n",
            "<ipython-input-94-23fb2182929e>:8: FutureWarning: In a future version, object-dtype columns with all-bool values will not be included in reductions with bool_only=True. Explicitly cast to bool dtype instead.\n",
            "  df = pd.concat([df, df_temp])\n",
            "<ipython-input-94-23fb2182929e>:8: FutureWarning: In a future version, object-dtype columns with all-bool values will not be included in reductions with bool_only=True. Explicitly cast to bool dtype instead.\n",
            "  df = pd.concat([df, df_temp])\n",
            "<ipython-input-94-23fb2182929e>:8: FutureWarning: In a future version, object-dtype columns with all-bool values will not be included in reductions with bool_only=True. Explicitly cast to bool dtype instead.\n",
            "  df = pd.concat([df, df_temp])\n",
            "<ipython-input-94-23fb2182929e>:8: FutureWarning: In a future version, object-dtype columns with all-bool values will not be included in reductions with bool_only=True. Explicitly cast to bool dtype instead.\n",
            "  df = pd.concat([df, df_temp])\n",
            "<ipython-input-94-23fb2182929e>:8: FutureWarning: In a future version, object-dtype columns with all-bool values will not be included in reductions with bool_only=True. Explicitly cast to bool dtype instead.\n",
            "  df = pd.concat([df, df_temp])\n",
            "<ipython-input-94-23fb2182929e>:8: FutureWarning: In a future version, object-dtype columns with all-bool values will not be included in reductions with bool_only=True. Explicitly cast to bool dtype instead.\n",
            "  df = pd.concat([df, df_temp])\n",
            "<ipython-input-94-23fb2182929e>:8: FutureWarning: In a future version, object-dtype columns with all-bool values will not be included in reductions with bool_only=True. Explicitly cast to bool dtype instead.\n",
            "  df = pd.concat([df, df_temp])\n",
            "<ipython-input-94-23fb2182929e>:8: FutureWarning: In a future version, object-dtype columns with all-bool values will not be included in reductions with bool_only=True. Explicitly cast to bool dtype instead.\n",
            "  df = pd.concat([df, df_temp])\n",
            "<ipython-input-94-23fb2182929e>:8: FutureWarning: In a future version, object-dtype columns with all-bool values will not be included in reductions with bool_only=True. Explicitly cast to bool dtype instead.\n",
            "  df = pd.concat([df, df_temp])\n",
            "<ipython-input-94-23fb2182929e>:8: FutureWarning: In a future version, object-dtype columns with all-bool values will not be included in reductions with bool_only=True. Explicitly cast to bool dtype instead.\n",
            "  df = pd.concat([df, df_temp])\n",
            "<ipython-input-94-23fb2182929e>:8: FutureWarning: In a future version, object-dtype columns with all-bool values will not be included in reductions with bool_only=True. Explicitly cast to bool dtype instead.\n",
            "  df = pd.concat([df, df_temp])\n",
            "<ipython-input-94-23fb2182929e>:8: FutureWarning: In a future version, object-dtype columns with all-bool values will not be included in reductions with bool_only=True. Explicitly cast to bool dtype instead.\n",
            "  df = pd.concat([df, df_temp])\n",
            "<ipython-input-94-23fb2182929e>:8: FutureWarning: In a future version, object-dtype columns with all-bool values will not be included in reductions with bool_only=True. Explicitly cast to bool dtype instead.\n",
            "  df = pd.concat([df, df_temp])\n",
            "<ipython-input-94-23fb2182929e>:8: FutureWarning: In a future version, object-dtype columns with all-bool values will not be included in reductions with bool_only=True. Explicitly cast to bool dtype instead.\n",
            "  df = pd.concat([df, df_temp])\n",
            "<ipython-input-94-23fb2182929e>:8: FutureWarning: In a future version, object-dtype columns with all-bool values will not be included in reductions with bool_only=True. Explicitly cast to bool dtype instead.\n",
            "  df = pd.concat([df, df_temp])\n",
            "<ipython-input-94-23fb2182929e>:8: FutureWarning: In a future version, object-dtype columns with all-bool values will not be included in reductions with bool_only=True. Explicitly cast to bool dtype instead.\n",
            "  df = pd.concat([df, df_temp])\n",
            "<ipython-input-94-23fb2182929e>:8: FutureWarning: In a future version, object-dtype columns with all-bool values will not be included in reductions with bool_only=True. Explicitly cast to bool dtype instead.\n",
            "  df = pd.concat([df, df_temp])\n",
            "<ipython-input-94-23fb2182929e>:8: FutureWarning: In a future version, object-dtype columns with all-bool values will not be included in reductions with bool_only=True. Explicitly cast to bool dtype instead.\n",
            "  df = pd.concat([df, df_temp])\n",
            "<ipython-input-94-23fb2182929e>:8: FutureWarning: In a future version, object-dtype columns with all-bool values will not be included in reductions with bool_only=True. Explicitly cast to bool dtype instead.\n",
            "  df = pd.concat([df, df_temp])\n",
            "<ipython-input-94-23fb2182929e>:8: FutureWarning: In a future version, object-dtype columns with all-bool values will not be included in reductions with bool_only=True. Explicitly cast to bool dtype instead.\n",
            "  df = pd.concat([df, df_temp])\n",
            "<ipython-input-94-23fb2182929e>:8: FutureWarning: In a future version, object-dtype columns with all-bool values will not be included in reductions with bool_only=True. Explicitly cast to bool dtype instead.\n",
            "  df = pd.concat([df, df_temp])\n",
            "<ipython-input-94-23fb2182929e>:8: FutureWarning: In a future version, object-dtype columns with all-bool values will not be included in reductions with bool_only=True. Explicitly cast to bool dtype instead.\n",
            "  df = pd.concat([df, df_temp])\n"
          ]
        }
      ]
    },
    {
      "cell_type": "code",
      "source": [
        "df['meeting_link_clicked'] = df['meeting_link_clicked'].fillna(df['meeting link clicked'])\n",
        "df.drop(columns=['meeting link clicked'], inplace=True)\n",
        "df.head()"
      ],
      "metadata": {
        "colab": {
          "base_uri": "https://localhost:8080/",
          "height": 310
        },
        "id": "mXcSA6DLbVWd",
        "outputId": "57ad7524-6d69-43f3-c5f7-6996feda1697"
      },
      "execution_count": 95,
      "outputs": [
        {
          "output_type": "execute_result",
          "data": {
            "text/plain": [
              "                                             subject  \\\n",
              "0  🚀 Propel Your Marketing ROI with Advanced Anal...   \n",
              "1  Data is Your Superpower 📊 Unlock Insights with Us   \n",
              "2  Turn Marketing Data Into Decisions 🧐 Let's Exp...   \n",
              "3  Marketing Success is a Click Away - Let's Chat...   \n",
              "0  🚀 Boost Your Brand's Visibility with Proven Ma...   \n",
              "\n",
              "                                                body opened responded  \\\n",
              "0  Hey [Recipient's Name],\\n\\nReady to see your m...  False     False   \n",
              "1  Hi [Recipient's Name],\\n\\nI'm reaching out aga...   True     False   \n",
              "2  Greetings [Recipient's Name],\\n\\nWe haven't co...  False     False   \n",
              "3  Hello [Recipient's Name],\\n\\nIt's clear that y...   True     False   \n",
              "0  Hi [Recipient's Name],\\n\\nIn the digital age, ...  False     False   \n",
              "\n",
              "  meeting_link_clicked  \n",
              "0                False  \n",
              "1                False  \n",
              "2                False  \n",
              "3                 True  \n",
              "0                False  "
            ],
            "text/html": [
              "\n",
              "  <div id=\"df-4641874d-7f80-4715-ac3b-303bb77bd244\" class=\"colab-df-container\">\n",
              "    <div>\n",
              "<style scoped>\n",
              "    .dataframe tbody tr th:only-of-type {\n",
              "        vertical-align: middle;\n",
              "    }\n",
              "\n",
              "    .dataframe tbody tr th {\n",
              "        vertical-align: top;\n",
              "    }\n",
              "\n",
              "    .dataframe thead th {\n",
              "        text-align: right;\n",
              "    }\n",
              "</style>\n",
              "<table border=\"1\" class=\"dataframe\">\n",
              "  <thead>\n",
              "    <tr style=\"text-align: right;\">\n",
              "      <th></th>\n",
              "      <th>subject</th>\n",
              "      <th>body</th>\n",
              "      <th>opened</th>\n",
              "      <th>responded</th>\n",
              "      <th>meeting_link_clicked</th>\n",
              "    </tr>\n",
              "  </thead>\n",
              "  <tbody>\n",
              "    <tr>\n",
              "      <th>0</th>\n",
              "      <td>🚀 Propel Your Marketing ROI with Advanced Anal...</td>\n",
              "      <td>Hey [Recipient's Name],\\n\\nReady to see your m...</td>\n",
              "      <td>False</td>\n",
              "      <td>False</td>\n",
              "      <td>False</td>\n",
              "    </tr>\n",
              "    <tr>\n",
              "      <th>1</th>\n",
              "      <td>Data is Your Superpower 📊 Unlock Insights with Us</td>\n",
              "      <td>Hi [Recipient's Name],\\n\\nI'm reaching out aga...</td>\n",
              "      <td>True</td>\n",
              "      <td>False</td>\n",
              "      <td>False</td>\n",
              "    </tr>\n",
              "    <tr>\n",
              "      <th>2</th>\n",
              "      <td>Turn Marketing Data Into Decisions 🧐 Let's Exp...</td>\n",
              "      <td>Greetings [Recipient's Name],\\n\\nWe haven't co...</td>\n",
              "      <td>False</td>\n",
              "      <td>False</td>\n",
              "      <td>False</td>\n",
              "    </tr>\n",
              "    <tr>\n",
              "      <th>3</th>\n",
              "      <td>Marketing Success is a Click Away - Let's Chat...</td>\n",
              "      <td>Hello [Recipient's Name],\\n\\nIt's clear that y...</td>\n",
              "      <td>True</td>\n",
              "      <td>False</td>\n",
              "      <td>True</td>\n",
              "    </tr>\n",
              "    <tr>\n",
              "      <th>0</th>\n",
              "      <td>🚀 Boost Your Brand's Visibility with Proven Ma...</td>\n",
              "      <td>Hi [Recipient's Name],\\n\\nIn the digital age, ...</td>\n",
              "      <td>False</td>\n",
              "      <td>False</td>\n",
              "      <td>False</td>\n",
              "    </tr>\n",
              "  </tbody>\n",
              "</table>\n",
              "</div>\n",
              "    <div class=\"colab-df-buttons\">\n",
              "\n",
              "  <div class=\"colab-df-container\">\n",
              "    <button class=\"colab-df-convert\" onclick=\"convertToInteractive('df-4641874d-7f80-4715-ac3b-303bb77bd244')\"\n",
              "            title=\"Convert this dataframe to an interactive table.\"\n",
              "            style=\"display:none;\">\n",
              "\n",
              "  <svg xmlns=\"http://www.w3.org/2000/svg\" height=\"24px\" viewBox=\"0 -960 960 960\">\n",
              "    <path d=\"M120-120v-720h720v720H120Zm60-500h600v-160H180v160Zm220 220h160v-160H400v160Zm0 220h160v-160H400v160ZM180-400h160v-160H180v160Zm440 0h160v-160H620v160ZM180-180h160v-160H180v160Zm440 0h160v-160H620v160Z\"/>\n",
              "  </svg>\n",
              "    </button>\n",
              "\n",
              "  <style>\n",
              "    .colab-df-container {\n",
              "      display:flex;\n",
              "      gap: 12px;\n",
              "    }\n",
              "\n",
              "    .colab-df-convert {\n",
              "      background-color: #E8F0FE;\n",
              "      border: none;\n",
              "      border-radius: 50%;\n",
              "      cursor: pointer;\n",
              "      display: none;\n",
              "      fill: #1967D2;\n",
              "      height: 32px;\n",
              "      padding: 0 0 0 0;\n",
              "      width: 32px;\n",
              "    }\n",
              "\n",
              "    .colab-df-convert:hover {\n",
              "      background-color: #E2EBFA;\n",
              "      box-shadow: 0px 1px 2px rgba(60, 64, 67, 0.3), 0px 1px 3px 1px rgba(60, 64, 67, 0.15);\n",
              "      fill: #174EA6;\n",
              "    }\n",
              "\n",
              "    .colab-df-buttons div {\n",
              "      margin-bottom: 4px;\n",
              "    }\n",
              "\n",
              "    [theme=dark] .colab-df-convert {\n",
              "      background-color: #3B4455;\n",
              "      fill: #D2E3FC;\n",
              "    }\n",
              "\n",
              "    [theme=dark] .colab-df-convert:hover {\n",
              "      background-color: #434B5C;\n",
              "      box-shadow: 0px 1px 3px 1px rgba(0, 0, 0, 0.15);\n",
              "      filter: drop-shadow(0px 1px 2px rgba(0, 0, 0, 0.3));\n",
              "      fill: #FFFFFF;\n",
              "    }\n",
              "  </style>\n",
              "\n",
              "    <script>\n",
              "      const buttonEl =\n",
              "        document.querySelector('#df-4641874d-7f80-4715-ac3b-303bb77bd244 button.colab-df-convert');\n",
              "      buttonEl.style.display =\n",
              "        google.colab.kernel.accessAllowed ? 'block' : 'none';\n",
              "\n",
              "      async function convertToInteractive(key) {\n",
              "        const element = document.querySelector('#df-4641874d-7f80-4715-ac3b-303bb77bd244');\n",
              "        const dataTable =\n",
              "          await google.colab.kernel.invokeFunction('convertToInteractive',\n",
              "                                                    [key], {});\n",
              "        if (!dataTable) return;\n",
              "\n",
              "        const docLinkHtml = 'Like what you see? Visit the ' +\n",
              "          '<a target=\"_blank\" href=https://colab.research.google.com/notebooks/data_table.ipynb>data table notebook</a>'\n",
              "          + ' to learn more about interactive tables.';\n",
              "        element.innerHTML = '';\n",
              "        dataTable['output_type'] = 'display_data';\n",
              "        await google.colab.output.renderOutput(dataTable, element);\n",
              "        const docLink = document.createElement('div');\n",
              "        docLink.innerHTML = docLinkHtml;\n",
              "        element.appendChild(docLink);\n",
              "      }\n",
              "    </script>\n",
              "  </div>\n",
              "\n",
              "\n",
              "<div id=\"df-cf6f74f9-0cc0-420b-ab36-59c3beb61d66\">\n",
              "  <button class=\"colab-df-quickchart\" onclick=\"quickchart('df-cf6f74f9-0cc0-420b-ab36-59c3beb61d66')\"\n",
              "            title=\"Suggest charts\"\n",
              "            style=\"display:none;\">\n",
              "\n",
              "<svg xmlns=\"http://www.w3.org/2000/svg\" height=\"24px\"viewBox=\"0 0 24 24\"\n",
              "     width=\"24px\">\n",
              "    <g>\n",
              "        <path d=\"M19 3H5c-1.1 0-2 .9-2 2v14c0 1.1.9 2 2 2h14c1.1 0 2-.9 2-2V5c0-1.1-.9-2-2-2zM9 17H7v-7h2v7zm4 0h-2V7h2v10zm4 0h-2v-4h2v4z\"/>\n",
              "    </g>\n",
              "</svg>\n",
              "  </button>\n",
              "\n",
              "<style>\n",
              "  .colab-df-quickchart {\n",
              "      --bg-color: #E8F0FE;\n",
              "      --fill-color: #1967D2;\n",
              "      --hover-bg-color: #E2EBFA;\n",
              "      --hover-fill-color: #174EA6;\n",
              "      --disabled-fill-color: #AAA;\n",
              "      --disabled-bg-color: #DDD;\n",
              "  }\n",
              "\n",
              "  [theme=dark] .colab-df-quickchart {\n",
              "      --bg-color: #3B4455;\n",
              "      --fill-color: #D2E3FC;\n",
              "      --hover-bg-color: #434B5C;\n",
              "      --hover-fill-color: #FFFFFF;\n",
              "      --disabled-bg-color: #3B4455;\n",
              "      --disabled-fill-color: #666;\n",
              "  }\n",
              "\n",
              "  .colab-df-quickchart {\n",
              "    background-color: var(--bg-color);\n",
              "    border: none;\n",
              "    border-radius: 50%;\n",
              "    cursor: pointer;\n",
              "    display: none;\n",
              "    fill: var(--fill-color);\n",
              "    height: 32px;\n",
              "    padding: 0;\n",
              "    width: 32px;\n",
              "  }\n",
              "\n",
              "  .colab-df-quickchart:hover {\n",
              "    background-color: var(--hover-bg-color);\n",
              "    box-shadow: 0 1px 2px rgba(60, 64, 67, 0.3), 0 1px 3px 1px rgba(60, 64, 67, 0.15);\n",
              "    fill: var(--button-hover-fill-color);\n",
              "  }\n",
              "\n",
              "  .colab-df-quickchart-complete:disabled,\n",
              "  .colab-df-quickchart-complete:disabled:hover {\n",
              "    background-color: var(--disabled-bg-color);\n",
              "    fill: var(--disabled-fill-color);\n",
              "    box-shadow: none;\n",
              "  }\n",
              "\n",
              "  .colab-df-spinner {\n",
              "    border: 2px solid var(--fill-color);\n",
              "    border-color: transparent;\n",
              "    border-bottom-color: var(--fill-color);\n",
              "    animation:\n",
              "      spin 1s steps(1) infinite;\n",
              "  }\n",
              "\n",
              "  @keyframes spin {\n",
              "    0% {\n",
              "      border-color: transparent;\n",
              "      border-bottom-color: var(--fill-color);\n",
              "      border-left-color: var(--fill-color);\n",
              "    }\n",
              "    20% {\n",
              "      border-color: transparent;\n",
              "      border-left-color: var(--fill-color);\n",
              "      border-top-color: var(--fill-color);\n",
              "    }\n",
              "    30% {\n",
              "      border-color: transparent;\n",
              "      border-left-color: var(--fill-color);\n",
              "      border-top-color: var(--fill-color);\n",
              "      border-right-color: var(--fill-color);\n",
              "    }\n",
              "    40% {\n",
              "      border-color: transparent;\n",
              "      border-right-color: var(--fill-color);\n",
              "      border-top-color: var(--fill-color);\n",
              "    }\n",
              "    60% {\n",
              "      border-color: transparent;\n",
              "      border-right-color: var(--fill-color);\n",
              "    }\n",
              "    80% {\n",
              "      border-color: transparent;\n",
              "      border-right-color: var(--fill-color);\n",
              "      border-bottom-color: var(--fill-color);\n",
              "    }\n",
              "    90% {\n",
              "      border-color: transparent;\n",
              "      border-bottom-color: var(--fill-color);\n",
              "    }\n",
              "  }\n",
              "</style>\n",
              "\n",
              "  <script>\n",
              "    async function quickchart(key) {\n",
              "      const quickchartButtonEl =\n",
              "        document.querySelector('#' + key + ' button');\n",
              "      quickchartButtonEl.disabled = true;  // To prevent multiple clicks.\n",
              "      quickchartButtonEl.classList.add('colab-df-spinner');\n",
              "      try {\n",
              "        const charts = await google.colab.kernel.invokeFunction(\n",
              "            'suggestCharts', [key], {});\n",
              "      } catch (error) {\n",
              "        console.error('Error during call to suggestCharts:', error);\n",
              "      }\n",
              "      quickchartButtonEl.classList.remove('colab-df-spinner');\n",
              "      quickchartButtonEl.classList.add('colab-df-quickchart-complete');\n",
              "    }\n",
              "    (() => {\n",
              "      let quickchartButtonEl =\n",
              "        document.querySelector('#df-cf6f74f9-0cc0-420b-ab36-59c3beb61d66 button');\n",
              "      quickchartButtonEl.style.display =\n",
              "        google.colab.kernel.accessAllowed ? 'block' : 'none';\n",
              "    })();\n",
              "  </script>\n",
              "</div>\n",
              "    </div>\n",
              "  </div>\n"
            ]
          },
          "metadata": {},
          "execution_count": 95
        }
      ]
    },
    {
      "cell_type": "code",
      "source": [
        "for col in ['opened', 'responded', 'meeting_link_clicked']:\n",
        "  print(col, df[col].isna().sum())"
      ],
      "metadata": {
        "colab": {
          "base_uri": "https://localhost:8080/"
        },
        "id": "2-vJWRQnhKdf",
        "outputId": "a1984a83-1246-40ce-8c33-aa73ff4b9bc9"
      },
      "execution_count": 96,
      "outputs": [
        {
          "output_type": "stream",
          "name": "stdout",
          "text": [
            "opened 0\n",
            "responded 0\n",
            "meeting_link_clicked 0\n"
          ]
        }
      ]
    },
    {
      "cell_type": "code",
      "source": [
        "df.to_csv(\"mails_data.csv\", index=False)"
      ],
      "metadata": {
        "id": "kxWDxI_xqr9a"
      },
      "execution_count": 97,
      "outputs": []
    },
    {
      "cell_type": "markdown",
      "source": [
        "### *TLDR -- Preprocessing*\n",
        "pre-processed and converted pickle file to csv"
      ],
      "metadata": {
        "id": "Mpc3Ftq2yJiX"
      }
    },
    {
      "cell_type": "markdown",
      "source": [
        "## Data Analysis:\n",
        "\n",
        "- Given a dataset on email engagement (including open rates, click-through rates, and conversion rates), perform an exploratory data analysis.\n",
        "- Identify potential key patterns and insights, using statistical and visualization techniques."
      ],
      "metadata": {
        "id": "loVuvTilgBpP"
      }
    },
    {
      "cell_type": "code",
      "source": [
        "# Understanding the values in the columns\n",
        "email_data = pd.read_csv(\"mails_data.csv\")\n",
        "for col in ['opened', 'responded', 'meeting_link_clicked']:\n",
        "  print(email_data[col].unique())"
      ],
      "metadata": {
        "colab": {
          "base_uri": "https://localhost:8080/"
        },
        "id": "CkFz3XBLliwO",
        "outputId": "8606e65a-9689-435f-9984-db7fd979408d"
      },
      "execution_count": 98,
      "outputs": [
        {
          "output_type": "stream",
          "name": "stdout",
          "text": [
            "['False' 'True' '0' '1']\n",
            "['False' 'True' '0']\n",
            "['False' 'True' '0' '1']\n"
          ]
        }
      ]
    },
    {
      "cell_type": "code",
      "source": [
        "# Get to know the data split\n",
        "email_data = pd.read_csv(\"mails_data.csv\")\n",
        "\n",
        "\n",
        "mapping = {'True': 1, 'False': 0, '1': 1, '0': 0}\n",
        "# Convert 'opened', 'responded', and 'meeting_link_clicked' columns to numerical values\n",
        "email_data['opened'] = email_data['opened'].map(mapping)\n",
        "email_data['responded'] = email_data['responded'].map(mapping)\n",
        "email_data['meeting_link_clicked'] = email_data['meeting_link_clicked'].map(mapping)\n",
        "\n",
        "\n",
        "# Calculate rates\n",
        "total_emails = len(email_data)\n",
        "open_rate = email_data['opened'].sum() / total_emails\n",
        "response_rate = email_data['responded'].sum() / total_emails\n",
        "click_through_rate = email_data['meeting_link_clicked'].sum() / total_emails\n",
        "\n",
        "open_rate, response_rate, click_through_rate\n"
      ],
      "metadata": {
        "colab": {
          "base_uri": "https://localhost:8080/"
        },
        "id": "A6IE3olamWoa",
        "outputId": "bc7ce49f-d9bd-49ef-ba06-94fe06e1f0fa"
      },
      "execution_count": 99,
      "outputs": [
        {
          "output_type": "execute_result",
          "data": {
            "text/plain": [
              "(0.7368421052631579, 0.046052631578947366, 0.3026315789473684)"
            ]
          },
          "metadata": {},
          "execution_count": 99
        }
      ]
    },
    {
      "cell_type": "code",
      "source": [
        "# Viz of the values\n",
        "import matplotlib.pyplot as plt\n",
        "import seaborn as sns\n",
        "\n",
        "# Set the aesthetic style of the plots\n",
        "sns.set_style(\"whitegrid\")\n",
        "\n",
        "# Create a figure with subplots\n",
        "fig, axes = plt.subplots(1, 3, figsize=(18, 6))\n",
        "\n",
        "# Plotting the distributions\n",
        "sns.histplot(email_data['opened'], bins=2, kde=False, ax=axes[0])\n",
        "axes[0].set_title('Distribution of Email Opened')\n",
        "axes[0].set_xticks([0, 1])\n",
        "axes[0].set_xticklabels(['Not Opened', 'Opened'])\n",
        "\n",
        "sns.histplot(email_data['responded'], bins=2, kde=False, ax=axes[1])\n",
        "axes[1].set_title('Distribution of Email Responses')\n",
        "axes[1].set_xticks([0, 1])\n",
        "axes[1].set_xticklabels(['No Response', 'Responded'])\n",
        "\n",
        "sns.histplot(email_data['meeting_link_clicked'], bins=2, kde=False, ax=axes[2])\n",
        "axes[2].set_title('Distribution of Meeting Link Clicks')\n",
        "axes[2].set_xticks([0, 1])\n",
        "axes[2].set_xticklabels(['Not Clicked', 'Clicked'])\n",
        "\n",
        "# Display the plots\n",
        "plt.tight_layout()\n",
        "plt.show()\n"
      ],
      "metadata": {
        "colab": {
          "base_uri": "https://localhost:8080/",
          "height": 289
        },
        "id": "tFdA58NwfOQ_",
        "outputId": "e3242635-236a-4cb6-db09-da836310c2a6"
      },
      "execution_count": 100,
      "outputs": [
        {
          "output_type": "display_data",
          "data": {
            "text/plain": [
              "<Figure size 1800x600 with 3 Axes>"
            ],
            "image/png": "[encoded data removed]"
          },
          "metadata": {}
        }
      ]
    },
    {
      "cell_type": "markdown",
      "source": [
        "### *TLDR - EDA*\n",
        "**Open Rate**: 72.37% of emails were opened.\n",
        "\n",
        "**Response Rate**: 4.61% of emails received a response.\n",
        "\n",
        "**Click-Through Rate**: 29.61% of emails had meeting links clicked.\n",
        "Visualization revealed high open rates but lower response and moderate click-through rates."
      ],
      "metadata": {
        "id": "4gTIdzXWx8nM"
      }
    },
    {
      "cell_type": "code",
      "source": [],
      "metadata": {
        "id": "F_ju8TBZhqWP"
      },
      "execution_count": 100,
      "outputs": []
    },
    {
      "cell_type": "markdown",
      "source": [
        "## Model Development:\n",
        "\n",
        "- Develop a machine learning model to predict the likelihood of email engagement (open rates or link clicks) based on the features available in the dataset.\n",
        "- Document the model development process, including data preprocessing, feature engineering, model selection, training, and validation in a Jupyter notebook\n",
        "\n",
        "--------"
      ],
      "metadata": {
        "id": "XYWZKQ9qiNQH"
      }
    },
    {
      "cell_type": "markdown",
      "source": [
        "To develop a machine learning model that predicts the likelihood of email engagement (open rates or link clicks), we'll follow these steps:\n",
        "\n",
        "1. Feature Engineering: Convert the text (email subject and body) into numeric features using Word2Vec.\n",
        "2. Data Preparation: Prepare the dataset for training, including handling any missing or categorical data.\n",
        "3. Model Building: Build a Logistic Regression model, simple model for binary classifcation\n",
        "4. Model Evaluation: Evaluate the model's performance.\n"
      ],
      "metadata": {
        "id": "lW2vaseWj8MR"
      }
    },
    {
      "cell_type": "code",
      "source": [
        "from gensim.models import Word2Vec\n",
        "from sklearn.model_selection import train_test_split\n",
        "from sklearn.linear_model import LogisticRegression\n",
        "from sklearn.metrics import classification_report, accuracy_score\n",
        "from sklearn.feature_extraction.text import TfidfVectorizer\n",
        "import numpy as np\n",
        "import re\n",
        "\n",
        "# Preprocessing text data\n",
        "def preprocess_text(text):\n",
        "    # Remove special characters and numbers\n",
        "    text = re.sub('[^A-Za-z]+', ' ', text)\n",
        "    # Convert to lowercase\n",
        "    text = text.lower().split()\n",
        "    return text\n",
        "\n",
        "# Combine subject and body columns and preprocess them\n",
        "email_data['combined_text'] = email_data['subject'] + ' ' + email_data['body']\n",
        "email_data['combined_text'] = email_data['combined_text'].apply(preprocess_text)\n",
        "\n",
        "# Prepare data for Word2Vec\n",
        "sentences = email_data['combined_text'].tolist()\n",
        "\n",
        "# Train Word2Vec model\n",
        "word2vec_model = Word2Vec(sentences, vector_size=100, window=5, min_count=1, workers=4)\n",
        "\n",
        "\n",
        "# Convert text to vectors\n",
        "email_data['text_vector'] = email_data['combined_text'].apply(get_vector)\n",
        "\n",
        "# Prepare the feature matrix and target variable\n",
        "X = np.array(list(email_data['text_vector']))\n",
        "y_open = email_data['opened']\n",
        "y_click = email_data['meeting_link_clicked']\n",
        "\n",
        "# Split data into training and testing sets for both open and click prediction\n",
        "X_train_open, X_test_open, y_train_open, y_test_open = train_test_split(X, y_open, test_size=0.2, random_state=42)\n",
        "X_train_click, X_test_click, y_train_click, y_test_click = train_test_split(X, y_click, test_size=0.2, random_state=42)\n",
        "\n",
        "# Build Logistic Regression model for open prediction\n",
        "log_reg_open = LogisticRegression()\n",
        "log_reg_open.fit(X_train_open, y_train_open)\n",
        "\n",
        "# Build Logistic Regression model for click prediction\n",
        "log_reg_click = LogisticRegression()\n",
        "log_reg_click.fit(X_train_click, y_train_click)\n",
        "\n",
        "# Model Evaluation\n",
        "y_pred_open = log_reg_open.predict(X_test_open)\n",
        "y_pred_click = log_reg_click.predict(X_test_click)\n",
        "\n",
        "accuracy_open = accuracy_score(y_test_open, y_pred_open)\n",
        "accuracy_click = accuracy_score(y_test_click, y_pred_click)\n",
        "\n",
        "accuracy_open, accuracy_click\n"
      ],
      "metadata": {
        "colab": {
          "base_uri": "https://localhost:8080/"
        },
        "id": "VPV0TSpviRPV",
        "outputId": "cda08ceb-95bf-4306-b493-65605aa47583"
      },
      "execution_count": 101,
      "outputs": [
        {
          "output_type": "execute_result",
          "data": {
            "text/plain": [
              "(0.7096774193548387, 0.7419354838709677)"
            ]
          },
          "metadata": {},
          "execution_count": 101
        }
      ]
    },
    {
      "cell_type": "markdown",
      "source": [
        "### *TLDR -- Model Development*\n",
        "\n",
        "Model for Predicting Email Opened:\n",
        "\n",
        "Accuracy: Approximately 71.0%\n",
        "\n",
        "\n",
        "Model for Predicting Link Clicks:\n",
        "\n",
        "Accuracy: Approximately 74.2%"
      ],
      "metadata": {
        "id": "SDPk9hzUmnFm"
      }
    },
    {
      "cell_type": "markdown",
      "source": [
        "### Feature Engineering\n",
        "\n",
        "#### Mail opening\n",
        "To create a feature set for predicting mail link clicks, we will focus on the following features:\n",
        "\n",
        "\n",
        "1. Subject: The subject line of the email.\n",
        "2. First few Characters of Body: A truncated version of the email body to capture the initial content.\n",
        "3. Mail Opened: A binary feature indicating whether the email was opened or not.\n",
        "We will drop the rest of the columns and use these features to predict link clicks. The approach will involve:"
      ],
      "metadata": {
        "id": "FWVD_fFptS7J"
      }
    },
    {
      "cell_type": "code",
      "source": [
        "# Combine subject and body columns and preprocess them\n",
        "email_data['combined_text'] = email_data['subject'] + ' ' + str(email_data['body']).split(\"\\n\")[0]\n",
        "email_data['combined_text'] = email_data['combined_text'].apply(preprocess_text)\n",
        "\n",
        "# Prepare data for Word2Vec\n",
        "sentences = email_data['combined_text'].tolist()\n",
        "\n",
        "# Train Word2Vec model\n",
        "word2vec_model = Word2Vec(sentences, vector_size=100, window=5, min_count=1, workers=4)\n",
        "\n",
        "\n",
        "# Convert text to vectors\n",
        "email_data['text_vector'] = email_data['combined_text'].apply(get_vector)\n",
        "\n",
        "# Prepare the feature matrix and target variable\n",
        "X = np.array(list(email_data['text_vector']))\n",
        "y_open = email_data['opened']\n",
        "y_click = email_data['meeting_link_clicked']\n",
        "\n",
        "# Split data into training and testing sets for both open and click prediction\n",
        "X_train_open, X_test_open, y_train_open, y_test_open = train_test_split(X, y_open, test_size=0.2, random_state=42)\n",
        "X_train_click, X_test_click, y_train_click, y_test_click = train_test_split(X, y_click, test_size=0.2, random_state=42)\n",
        "\n",
        "# Build Logistic Regression model for open prediction\n",
        "log_reg_open = LogisticRegression()\n",
        "log_reg_open.fit(X_train_open, y_train_open)\n",
        "\n",
        "# Build Logistic Regression model for click prediction\n",
        "log_reg_click = LogisticRegression()\n",
        "log_reg_click.fit(X_train_click, y_train_click)\n",
        "\n",
        "# Model Evaluation\n",
        "y_pred_open = log_reg_open.predict(X_test_open)\n",
        "y_pred_click = log_reg_click.predict(X_test_click)\n",
        "\n",
        "accuracy_open = accuracy_score(y_test_open, y_pred_open)\n",
        "accuracy_click = accuracy_score(y_test_click, y_pred_click)\n",
        "\n",
        "accuracy_open, accuracy_click\n"
      ],
      "metadata": {
        "colab": {
          "base_uri": "https://localhost:8080/"
        },
        "id": "XDx2h3dHj6z6",
        "outputId": "a18b397a-f309-43c2-c3b6-ad0c4abb9679"
      },
      "execution_count": 102,
      "outputs": [
        {
          "output_type": "execute_result",
          "data": {
            "text/plain": [
              "(0.7096774193548387, 0.7419354838709677)"
            ]
          },
          "metadata": {},
          "execution_count": 102
        }
      ]
    },
    {
      "cell_type": "markdown",
      "source": [
        "Integrating the information about whether an email was opened as an additional feature for predicting link clicks is a logical step. The hypothesis is that an email needs to be opened before a link inside it can be clicked, so this feature could be very predictive.\n",
        "\n"
      ],
      "metadata": {
        "id": "idqWD8n6xBn2"
      }
    },
    {
      "cell_type": "code",
      "source": [
        "# Combine subject and body columns and preprocess them\n",
        "email_data['combined_text'] = email_data['subject'] + ' ' + email_data['body']\n",
        "email_data['combined_text'] = email_data['combined_text'].apply(preprocess_text)\n",
        "\n",
        "# Prepare data for Word2Vec\n",
        "sentences = email_data['combined_text'].tolist()\n",
        "\n",
        "# Train Word2Vec model\n",
        "word2vec_model = Word2Vec(sentences, vector_size=100, window=5, min_count=1, workers=4)\n",
        "\n",
        "# Convert text to vectors\n",
        "email_data['text_vector'] = email_data['combined_text'].apply(get_vector)\n",
        "\n",
        "# Prepare the feature matrix and target variable\n",
        "X = np.array(list(email_data['text_vector']))\n",
        "X = np.column_stack((X, email_data['opened']))\n",
        "y_click = email_data['meeting_link_clicked']\n",
        "\n",
        "# Split data into training and testing sets for both open and click prediction\n",
        "X_train_click, X_test_click, y_train_click, y_test_click = train_test_split(X, y_click, test_size=0.2, random_state=42)\n",
        "\n",
        "\n",
        "# Build Logistic Regression model for click prediction\n",
        "log_reg_click = LogisticRegression()\n",
        "log_reg_click.fit(X_train_click, y_train_click)\n",
        "\n",
        "# Model Evaluation\n",
        "y_pred_click = log_reg_click.predict(X_test_click)\n",
        "\n",
        "accuracy_click = accuracy_score(y_test_click, y_pred_click)\n",
        "\n",
        "accuracy_click\n"
      ],
      "metadata": {
        "colab": {
          "base_uri": "https://localhost:8080/"
        },
        "id": "qodKA5aBlF0e",
        "outputId": "3cd5bdf7-8934-45a9-c229-82321245d4bf"
      },
      "execution_count": 103,
      "outputs": [
        {
          "output_type": "execute_result",
          "data": {
            "text/plain": [
              "0.7419354838709677"
            ]
          },
          "metadata": {},
          "execution_count": 103
        }
      ]
    },
    {
      "cell_type": "markdown",
      "source": [
        "## Insights and Reporting:\n",
        "\n",
        "- Analyze the model’s performance and interpret its predictions\n",
        "- Draft a report summarizing the analysis approach, model development process, key findings, and actionable insights for improving email engagement."
      ],
      "metadata": {
        "id": "41AeKes2xYT1"
      }
    },
    {
      "cell_type": "markdown",
      "source": [
        "\n",
        "### Model Performance and Interpretation\n",
        "\n",
        "#### Model for Email Opening Prediction:\n",
        "\n",
        "**Accuracy**: Approximately 71.0%.\n",
        "\n",
        "\n",
        "This model moderately predicted whether an email would be opened based on its content. Using only the first few chars of the body didnt improve the model prediction\n",
        "\n",
        "\n",
        "Model for Link Click Prediction:\n",
        "\n",
        "**Accuracy** (without 'opened' status): Approximately 74.2%.\n",
        "**Accuracy** (with 'opened' status): Approximately 74.2%.\n",
        "\n",
        "The inclusion of the 'opened' status as a feature did not significantly alter the accuracy, indicating that other factors in the email content might be more influential in predicting link clicks.\n",
        "\n",
        "\n",
        "\n",
        "#### Key Findings\n",
        "\n",
        "**High Open Rate, Lower Engagement**: The high open rate suggests effective subject lines, but the lower response and click-through rates indicate room for improvement in email content and calls to action.\n",
        "\n",
        "\n",
        "**'Opened' Status Not a Strong Predictor for Clicks**: The similar accuracy of the link-click prediction model with and without the 'opened' status suggests that once an email is opened, other factors (like content relevance, call-to-action clarity) become more critical in driving engagement.\n",
        "\n",
        "\n",
        "\n",
        "#### Actionable Insights for Improving Email Engagement\n",
        "**Enhance Email Content**: Focus on creating more engaging content\n",
        "\n",
        "**Optimize Subject Lines**: Continue leveraging effective subject lines to maintain high open rates.\n",
        "\n",
        "**Experiment with Different Text Representations**: Explore advanced NLP techniques (like BERT embeddings) to capture more nuances in the text data.\n",
        "\n",
        "**Test and Iterate**: Conduct A/B testing with different email formats and content to identify what resonates best with the audience.\n",
        "\n",
        "**Incorporate Additional Contextual Data**: If available, use sender information, recipient demographics, and email sending time to improve prediction models.\n",
        "\n",
        "**Explore Advanced Models**: Consider more complex models (e.g., Random Forest, Gradient Boosting Machines) and hyperparameter tuning for potentially better prediction accuracy."
      ],
      "metadata": {
        "id": "c7IxS4HzxrOX"
      }
    },
    {
      "cell_type": "code",
      "source": [],
      "metadata": {
        "id": "iXNtxLURviBl"
      },
      "execution_count": null,
      "outputs": []
    }
  ]
}